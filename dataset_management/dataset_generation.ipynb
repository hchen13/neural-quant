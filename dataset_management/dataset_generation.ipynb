{
 "cells": [
  {
   "cell_type": "markdown",
   "id": "f462bb8d-9e2f-4806-966d-21c590882f50",
   "metadata": {},
   "source": [
    "# Training Dataset Generation\n",
    "\n",
    "This notebook demonstrates how to read raw market data from [QUANTAXIS](https://github.com/QUANTAXIS/QUANTAXIS) package and generate training datasets accordingly based on deep learning model needs, assuming market data is already downloaded and stored locally through QUANTAXIS CLI or otherwise possessed in some way.\n",
    "\n",
    "## Data Format\n",
    "\n",
    "Before anything, agreeing on the trading data format is necessary. I have spent way more time than I'm willing to on trying to figure out the raw data format and pre-processing routines when researching others' repositories. \n",
    "\n",
    "If not familiar with QUANTAXIS, the raw market data are essentially `pd.DataFrame` instances whose format is more or less similar to the following:\n",
    "\n",
    "|                                                     |    open |    high |     low |   close |           volume |   trade |   amount |   time_stamp | date       | type   |\n",
    "|:----------------------------------------------------|--------:|--------:|--------:|--------:|-----------------:|--------:|---------:|-------------:|:-----------|:-------|\n",
    "| (Timestamp('2020-01-01 00:00:00'), 'HUOBI.btcusdt') | 7194.7  | 7221.91 | 7186.19 | 7213.05 |      1.56942e+06 |    1772 | 217.941  |   1577808000 | 2020-01-01 | 5min   |\n",
    "| (Timestamp('2020-01-01 00:05:00'), 'HUOBI.btcusdt') | 7213.48 | 7221.76 | 7206.9  | 7216.42 | 545030           |     665 |  75.5441 |   1577808300 | 2020-01-01 | 5min   |\n",
    "| (Timestamp('2020-01-01 00:10:00'), 'HUOBI.btcusdt') | 7216.85 | 7217.05 | 7204.95 | 7206.03 | 542448           |     586 |  75.2413 |   1577808600 | 2020-01-01 | 5min   |\n",
    "| (Timestamp('2020-01-01 00:15:00'), 'HUOBI.btcusdt') | 7206.02 | 7224.12 | 7202.49 | 7223.27 | 927444           |     979 | 128.582  |   1577808900 | 2020-01-01 | 5min   |\n",
    "| (Timestamp('2020-01-01 00:20:00'), 'HUOBI.btcusdt') | 7223.26 | 7223.26 | 7216.49 | 7217.81 | 159531           |     763 |  22.0955 |   1577809200 | 2020-01-01 | 5min   |\n",
    "\n",
    "The above table is an example of the cryptocurrency trading data of BTC/USDT pair with 5-minute intervals, starting from Jan. 1, 2020. Here is a sample daily data from China stock market:\n",
    "\n",
    "|                                              |   open |   high |   low |   close |   volume |      amount |\n",
    "|:---------------------------------------------|-------:|-------:|------:|--------:|---------:|------------:|\n",
    "| (Timestamp('2000-01-27 00:00:00'), '000963') |  16.3  |  22.5  | 16.01 |   20.62 |   297107 | 5.24846e+08 |\n",
    "| (Timestamp('2000-01-28 00:00:00'), '000963') |  19.3  |  19.78 | 18.56 |   18.56 |   117871 | 2.22077e+08 |\n",
    "| (Timestamp('2000-02-14 00:00:00'), '000963') |  18.21 |  20.3  | 17.71 |   20.07 |    92146 | 1.74449e+08 |\n",
    "| (Timestamp('2000-02-15 00:00:00'), '000963') |  19.38 |  19.97 | 18.18 |   18.24 |    61216 | 1.18008e+08 |\n",
    "| (Timestamp('2000-02-16 00:00:00'), '000963') |  18.25 |  18.77 | 17.3  |   17.57 |    46718 | 8.30775e+07 |\n",
    "\n",
    "The index column of the dataframe is a tuple consisting of the close time and the symbol/stock code, depending on which market the data is from. *Plase notice that the indices are actually named, the first index column is named \"datetime\" and the second is \"code\", which can be seen from the later example outputs.*\n",
    "\n",
    "The two dataframes are slightly different in the columns depending on the market and frequency of the data, but in general the columns should at least contain \n",
    "\n",
    "- **trade time**, which is the first element of the index for each row\n",
    "- **open**\n",
    "- **close**\n",
    "- **high**\n",
    "- **low**\n",
    "- **volume**\n",
    "- **amount**\n",
    "\n",
    "Having established the format of the raw data, one can either retrieve data for processing from QUANTAXIS or forge whatever market data of their own into the same format. "
   ]
  },
  {
   "cell_type": "markdown",
   "id": "8bb1db3b-d8a4-4388-9e6c-cee73e188463",
   "metadata": {},
   "source": [
    "## 0. Load dependencies\n",
    "\n",
    "Set up jupyter magic functions and load all necessary packages/modules for processing. For debugging purposes, the visualization functionalities are imported here, read the source code and possibly another notebook documentation for more information about its usages."
   ]
  },
  {
   "cell_type": "code",
   "execution_count": 1,
   "id": "68f31c80-a9d8-4cd2-9166-e2ca612ebaa9",
   "metadata": {},
   "outputs": [
    {
     "name": "stdout",
     "output_type": "stream",
     "text": [
      "提示：当前环境 pandas 版本高于 0.25，get_price 与 get_fundamentals_continuously 接口 panel 参数将固定为 False\n",
      "注意：0.25 以上版本 pandas 不支持 panel，如使用该数据结构和相关函数请注意修改\n"
     ]
    }
   ],
   "source": [
    "%matplotlib inline\n",
    "%load_ext autoreload\n",
    "%autoreload 2\n",
    "\n",
    "import sys\n",
    "from pathlib import Path\n",
    "\n",
    "# add the project root directory into path so that we can import other modules in the project\n",
    "_project_root = Path().cwd().absolute().parent\n",
    "sys.path.append(str(_project_root))\n",
    "\n",
    "import QUANTAXIS as qa\n",
    "from datetime import datetime\n",
    "import pandas as pd\n",
    "import numpy as np\n",
    "\n",
    "\n",
    "from utilities.visualizations import draw_trading_data   # this is a utility function create to display financial data\n",
    "from matplotlib import pyplot as plt"
   ]
  },
  {
   "cell_type": "markdown",
   "id": "30307bb7-b658-494b-a429-7c317f19a026",
   "metadata": {},
   "source": [
    "An example of retrieving data through QUANTAXIS package, notice that the dataframes from it are actually indexed with names \"datetime\" and \"code\", so if the later code uses the index names, please refer back to this accordingly. "
   ]
  },
  {
   "cell_type": "code",
   "execution_count": 2,
   "id": "dedf3a71-2947-4b52-844d-e27b9e472ce4",
   "metadata": {},
   "outputs": [
    {
     "data": {
      "text/html": [
       "<div>\n",
       "<style scoped>\n",
       "    .dataframe tbody tr th:only-of-type {\n",
       "        vertical-align: middle;\n",
       "    }\n",
       "\n",
       "    .dataframe tbody tr th {\n",
       "        vertical-align: top;\n",
       "    }\n",
       "\n",
       "    .dataframe thead th {\n",
       "        text-align: right;\n",
       "    }\n",
       "</style>\n",
       "<table border=\"1\" class=\"dataframe\">\n",
       "  <thead>\n",
       "    <tr style=\"text-align: right;\">\n",
       "      <th></th>\n",
       "      <th></th>\n",
       "      <th>open</th>\n",
       "      <th>high</th>\n",
       "      <th>low</th>\n",
       "      <th>close</th>\n",
       "      <th>volume</th>\n",
       "      <th>trade</th>\n",
       "      <th>amount</th>\n",
       "      <th>time_stamp</th>\n",
       "      <th>date</th>\n",
       "      <th>type</th>\n",
       "    </tr>\n",
       "    <tr>\n",
       "      <th>datetime</th>\n",
       "      <th>code</th>\n",
       "      <th></th>\n",
       "      <th></th>\n",
       "      <th></th>\n",
       "      <th></th>\n",
       "      <th></th>\n",
       "      <th></th>\n",
       "      <th></th>\n",
       "      <th></th>\n",
       "      <th></th>\n",
       "      <th></th>\n",
       "    </tr>\n",
       "  </thead>\n",
       "  <tbody>\n",
       "    <tr>\n",
       "      <th>2020-12-31 16:00:00</th>\n",
       "      <th>BINANCE.BTCUSDT</th>\n",
       "      <td>28782.01</td>\n",
       "      <td>28822.59</td>\n",
       "      <td>28311.00</td>\n",
       "      <td>28380.60</td>\n",
       "      <td>2970.381406</td>\n",
       "      <td>78389.0</td>\n",
       "      <td>3.840004e+07</td>\n",
       "      <td>1609430400</td>\n",
       "      <td>2020-12-31</td>\n",
       "      <td>60min</td>\n",
       "    </tr>\n",
       "    <tr>\n",
       "      <th>2020-12-31 17:00:00</th>\n",
       "      <th>BINANCE.BTCUSDT</th>\n",
       "      <td>28382.47</td>\n",
       "      <td>28723.68</td>\n",
       "      <td>28362.00</td>\n",
       "      <td>28571.97</td>\n",
       "      <td>2435.556988</td>\n",
       "      <td>49032.0</td>\n",
       "      <td>3.363307e+07</td>\n",
       "      <td>1609434000</td>\n",
       "      <td>2020-12-31</td>\n",
       "      <td>60min</td>\n",
       "    </tr>\n",
       "    <tr>\n",
       "      <th>2020-12-31 18:00:00</th>\n",
       "      <th>BINANCE.BTCUSDT</th>\n",
       "      <td>28571.97</td>\n",
       "      <td>28898.00</td>\n",
       "      <td>28424.56</td>\n",
       "      <td>28872.25</td>\n",
       "      <td>2579.419408</td>\n",
       "      <td>48133.0</td>\n",
       "      <td>3.760116e+07</td>\n",
       "      <td>1609437600</td>\n",
       "      <td>2020-12-31</td>\n",
       "      <td>60min</td>\n",
       "    </tr>\n",
       "    <tr>\n",
       "      <th>2020-12-31 19:00:00</th>\n",
       "      <th>BINANCE.BTCUSDT</th>\n",
       "      <td>28872.24</td>\n",
       "      <td>29000.00</td>\n",
       "      <td>28742.41</td>\n",
       "      <td>28897.83</td>\n",
       "      <td>2293.821339</td>\n",
       "      <td>56789.0</td>\n",
       "      <td>4.087368e+07</td>\n",
       "      <td>1609441200</td>\n",
       "      <td>2020-12-31</td>\n",
       "      <td>60min</td>\n",
       "    </tr>\n",
       "    <tr>\n",
       "      <th>2020-12-31 20:00:00</th>\n",
       "      <th>BINANCE.BTCUSDT</th>\n",
       "      <td>28897.84</td>\n",
       "      <td>29139.65</td>\n",
       "      <td>28862.00</td>\n",
       "      <td>29126.70</td>\n",
       "      <td>1936.480299</td>\n",
       "      <td>42101.0</td>\n",
       "      <td>3.275941e+07</td>\n",
       "      <td>1609444800</td>\n",
       "      <td>2020-12-31</td>\n",
       "      <td>60min</td>\n",
       "    </tr>\n",
       "    <tr>\n",
       "      <th>...</th>\n",
       "      <th>...</th>\n",
       "      <td>...</td>\n",
       "      <td>...</td>\n",
       "      <td>...</td>\n",
       "      <td>...</td>\n",
       "      <td>...</td>\n",
       "      <td>...</td>\n",
       "      <td>...</td>\n",
       "      <td>...</td>\n",
       "      <td>...</td>\n",
       "      <td>...</td>\n",
       "    </tr>\n",
       "    <tr>\n",
       "      <th>2021-07-29 03:00:00</th>\n",
       "      <th>BINANCE.BTCUSDT</th>\n",
       "      <td>39701.53</td>\n",
       "      <td>39849.20</td>\n",
       "      <td>39506.57</td>\n",
       "      <td>39609.78</td>\n",
       "      <td>1165.520236</td>\n",
       "      <td>26948.0</td>\n",
       "      <td>2.238507e+07</td>\n",
       "      <td>1627527600</td>\n",
       "      <td>2021-07-29</td>\n",
       "      <td>60min</td>\n",
       "    </tr>\n",
       "    <tr>\n",
       "      <th>2021-07-29 04:00:00</th>\n",
       "      <th>BINANCE.BTCUSDT</th>\n",
       "      <td>39609.78</td>\n",
       "      <td>40115.53</td>\n",
       "      <td>39491.99</td>\n",
       "      <td>39963.96</td>\n",
       "      <td>2031.998164</td>\n",
       "      <td>41339.0</td>\n",
       "      <td>4.149152e+07</td>\n",
       "      <td>1627531200</td>\n",
       "      <td>2021-07-29</td>\n",
       "      <td>60min</td>\n",
       "    </tr>\n",
       "    <tr>\n",
       "      <th>2021-07-29 05:00:00</th>\n",
       "      <th>BINANCE.BTCUSDT</th>\n",
       "      <td>39963.96</td>\n",
       "      <td>40270.53</td>\n",
       "      <td>39717.00</td>\n",
       "      <td>40108.92</td>\n",
       "      <td>2522.186110</td>\n",
       "      <td>47637.0</td>\n",
       "      <td>5.237000e+07</td>\n",
       "      <td>1627534800</td>\n",
       "      <td>2021-07-29</td>\n",
       "      <td>60min</td>\n",
       "    </tr>\n",
       "    <tr>\n",
       "      <th>2021-07-29 06:00:00</th>\n",
       "      <th>BINANCE.BTCUSDT</th>\n",
       "      <td>40108.92</td>\n",
       "      <td>40197.67</td>\n",
       "      <td>39893.08</td>\n",
       "      <td>39996.58</td>\n",
       "      <td>1641.204453</td>\n",
       "      <td>49210.0</td>\n",
       "      <td>3.324053e+07</td>\n",
       "      <td>1627538400</td>\n",
       "      <td>2021-07-29</td>\n",
       "      <td>60min</td>\n",
       "    </tr>\n",
       "    <tr>\n",
       "      <th>2021-07-29 07:00:00</th>\n",
       "      <th>BINANCE.BTCUSDT</th>\n",
       "      <td>39996.58</td>\n",
       "      <td>40078.91</td>\n",
       "      <td>39923.54</td>\n",
       "      <td>40024.60</td>\n",
       "      <td>416.284801</td>\n",
       "      <td>9751.0</td>\n",
       "      <td>8.234253e+06</td>\n",
       "      <td>1627542000</td>\n",
       "      <td>2021-07-29</td>\n",
       "      <td>60min</td>\n",
       "    </tr>\n",
       "  </tbody>\n",
       "</table>\n",
       "<p>5025 rows × 10 columns</p>\n",
       "</div>"
      ],
      "text/plain": [
       "                                         open      high       low     close  \\\n",
       "datetime            code                                                      \n",
       "2020-12-31 16:00:00 BINANCE.BTCUSDT  28782.01  28822.59  28311.00  28380.60   \n",
       "2020-12-31 17:00:00 BINANCE.BTCUSDT  28382.47  28723.68  28362.00  28571.97   \n",
       "2020-12-31 18:00:00 BINANCE.BTCUSDT  28571.97  28898.00  28424.56  28872.25   \n",
       "2020-12-31 19:00:00 BINANCE.BTCUSDT  28872.24  29000.00  28742.41  28897.83   \n",
       "2020-12-31 20:00:00 BINANCE.BTCUSDT  28897.84  29139.65  28862.00  29126.70   \n",
       "...                                       ...       ...       ...       ...   \n",
       "2021-07-29 03:00:00 BINANCE.BTCUSDT  39701.53  39849.20  39506.57  39609.78   \n",
       "2021-07-29 04:00:00 BINANCE.BTCUSDT  39609.78  40115.53  39491.99  39963.96   \n",
       "2021-07-29 05:00:00 BINANCE.BTCUSDT  39963.96  40270.53  39717.00  40108.92   \n",
       "2021-07-29 06:00:00 BINANCE.BTCUSDT  40108.92  40197.67  39893.08  39996.58   \n",
       "2021-07-29 07:00:00 BINANCE.BTCUSDT  39996.58  40078.91  39923.54  40024.60   \n",
       "\n",
       "                                          volume    trade        amount  \\\n",
       "datetime            code                                                  \n",
       "2020-12-31 16:00:00 BINANCE.BTCUSDT  2970.381406  78389.0  3.840004e+07   \n",
       "2020-12-31 17:00:00 BINANCE.BTCUSDT  2435.556988  49032.0  3.363307e+07   \n",
       "2020-12-31 18:00:00 BINANCE.BTCUSDT  2579.419408  48133.0  3.760116e+07   \n",
       "2020-12-31 19:00:00 BINANCE.BTCUSDT  2293.821339  56789.0  4.087368e+07   \n",
       "2020-12-31 20:00:00 BINANCE.BTCUSDT  1936.480299  42101.0  3.275941e+07   \n",
       "...                                          ...      ...           ...   \n",
       "2021-07-29 03:00:00 BINANCE.BTCUSDT  1165.520236  26948.0  2.238507e+07   \n",
       "2021-07-29 04:00:00 BINANCE.BTCUSDT  2031.998164  41339.0  4.149152e+07   \n",
       "2021-07-29 05:00:00 BINANCE.BTCUSDT  2522.186110  47637.0  5.237000e+07   \n",
       "2021-07-29 06:00:00 BINANCE.BTCUSDT  1641.204453  49210.0  3.324053e+07   \n",
       "2021-07-29 07:00:00 BINANCE.BTCUSDT   416.284801   9751.0  8.234253e+06   \n",
       "\n",
       "                                     time_stamp        date   type  \n",
       "datetime            code                                            \n",
       "2020-12-31 16:00:00 BINANCE.BTCUSDT  1609430400  2020-12-31  60min  \n",
       "2020-12-31 17:00:00 BINANCE.BTCUSDT  1609434000  2020-12-31  60min  \n",
       "2020-12-31 18:00:00 BINANCE.BTCUSDT  1609437600  2020-12-31  60min  \n",
       "2020-12-31 19:00:00 BINANCE.BTCUSDT  1609441200  2020-12-31  60min  \n",
       "2020-12-31 20:00:00 BINANCE.BTCUSDT  1609444800  2020-12-31  60min  \n",
       "...                                         ...         ...    ...  \n",
       "2021-07-29 03:00:00 BINANCE.BTCUSDT  1627527600  2021-07-29  60min  \n",
       "2021-07-29 04:00:00 BINANCE.BTCUSDT  1627531200  2021-07-29  60min  \n",
       "2021-07-29 05:00:00 BINANCE.BTCUSDT  1627534800  2021-07-29  60min  \n",
       "2021-07-29 06:00:00 BINANCE.BTCUSDT  1627538400  2021-07-29  60min  \n",
       "2021-07-29 07:00:00 BINANCE.BTCUSDT  1627542000  2021-07-29  60min  \n",
       "\n",
       "[5025 rows x 10 columns]"
      ]
     },
     "execution_count": 2,
     "metadata": {},
     "output_type": "execute_result"
    }
   ],
   "source": [
    "btc_symbol = 'BINANCE.BTCUSDT'\n",
    "freq = '60min'\n",
    "start_date = \"2021-01-01\"\n",
    "end_date = str(datetime.today())\n",
    "data = qa.QA_fetch_cryptocurrency_min_adv(btc_symbol, start=start_date, end=end_date, frequence=freq).data\n",
    "data"
   ]
  },
  {
   "cell_type": "markdown",
   "id": "01348b7d-7e3d-4a75-b941-0c8ccee5524c",
   "metadata": {},
   "source": [
    "## 1. Construct Training Data\n",
    "\n",
    "Assuming the deep learning model takes $N$ consecutive candlesticks with attributes: **open, close, high, low, and volume** as input, and returns a 3-class classification output representing the 3 directions of the near future (e.g. prices in the next 6 time periods) given the input: **goes up, goes down, or oscillating sideways** respectively, and the output labels are determined by adopting a method called [**the Triple-Barrier Method**](https://towardsdatascience.com/financial-machine-learning-part-1-labels-7eeed050f32e). \n",
    "\n",
    "### 1. 1 - Data Segmentation\n",
    "\n",
    "The first step is to slide the trading data with a sliding window of $N + T$ where $N$ is the length of the model input and $T$ is the length used to determine the classification labels mentioned in the **TBM** (Triple-Barrier Method)."
   ]
  },
  {
   "cell_type": "code",
   "execution_count": 11,
   "id": "f6309bd1-b9ea-4c26-b295-ae3a291cb36f",
   "metadata": {
    "tags": []
   },
   "outputs": [
    {
     "name": "stdout",
     "output_type": "stream",
     "text": [
      "SHAPES:\n",
      "segment = (106, 10) | history = (100, 10) | future = (6, 10)\n"
     ]
    },
    {
     "data": {
      "image/png": "[encoded data removed]",
      "text/plain": [
       "<Figure size 864x576 with 2 Axes>"
      ]
     },
     "metadata": {},
     "output_type": "display_data"
    }
   ],
   "source": [
    "n, t = 100, 6\n",
    "window_size = n + t\n",
    "\n",
    "for i in range(0, len(data) - window_size):\n",
    "    segment = data.iloc[i : i + window_size]\n",
    "    history = segment[:n]\n",
    "    future = segment[n:]\n",
    "    print(f\"SHAPES:\\nsegment = {segment.shape} | history = {history.shape} | future = {future.shape}\")\n",
    "    s = history.iloc[-1].name[0]\n",
    "    fig, (main_ax, vol_ax) = draw_trading_data(segment, pointers=[s])\n",
    "    main_ax.axvline(n-.5, ls='--', color='gray');\n",
    "    break\n",
    "    "
   ]
  },
  {
   "cell_type": "markdown",
   "id": "5ed244fb-606b-4045-ae19-3a3e3989c7bb",
   "metadata": {},
   "source": [
    "The above code snippet shows how to slide the data with a given sliding window size and segment it into `history` and `future`, where `history` is the data intended to be fed into the neural network and `future` is used to determine the label. In the figure above, the yellow chevron denotes the start of the `future` segment. (The equivalent generator function `segment_trading_data()` is implemented in the `dataset_management/tools.py` module.)"
   ]
  },
  {
   "cell_type": "code",
   "execution_count": 12,
   "id": "c233dfaa-c0b5-44c5-a340-2e8f971e2508",
   "metadata": {},
   "outputs": [],
   "source": [
    "from tools import segment_trading_data\n",
    "segments = segment_trading_data(data=data, n=100, t=12)\n",
    "\n",
    "for i, (history, future) in enumerate(segments):\n",
    "    \"\"\"DO SOMETHING WITH history AND future DATA HERE\"\"\"\n",
    "    break"
   ]
  },
  {
   "cell_type": "markdown",
   "id": "8babc802-3012-476d-a108-ff56888e7bc3",
   "metadata": {},
   "source": [
    "### 1. 2 - Label the segments\n",
    "\n",
    "The second step is to assign each segment a label, based on TBM. According to the article, the volatility of the previous prices is taken into account when determining the upper and lower bounds.\n",
    "\n",
    "Let's take a random segment and try to assign the correct label to it.\n",
    "\n",
    "It is easy to know that the definition of volatility in finance is simply equivalent to standard deviation in statistics with a minor difference:\n",
    "\n",
    "$\\text{volatility} = \\sqrt{\\dfrac{1}{N} \\sum_{i=1}^{N}(P_i - \\overline{P})^2}$ whereas $\\text{standard deviation} = \\sqrt{\\dfrac{1}{N - 1} \\sum_{i=1}^{N}(P_i - \\overline{P})^2}$\n",
    "\n",
    "Therefore setting the attribute `ddof=0`.\n",
    "\n",
    "After getting the volatility, the upper and lower bounds of the triple-barrier is defined accordingly, which is \n",
    "\n",
    "$\\text{upper} = k_{up}v + p_0$ and $\\text{lower} = -k_{lo}v + p_0$,\n",
    "\n",
    "where $k_{up}$ and $k_{lo}$ are the upper and lower bounds magnitudes, $v$ is the volatility, and $p_0$ is the closing price of the last candlestick. It means that the upper and lower bounds of the TBM are some magnitudes of the volatility away from the closing price.\n",
    "\n",
    "#### Alternatives for volatility\n",
    "\n",
    "One of the alternatives for the above mentioned volatility can be **average true range**, a.k.a. **ATR**. And it is calculated as follows:\n",
    "\n",
    "$\\text{True Range}_i = \\text{TR}_i = max\\{H_i - L_i, |C_{i-1} - H_i|, |C_{i-1} - L_i|\\}$\n",
    "\n",
    "$\\text{ATR}(\\text{candles} | n) = MA(\\text{TR}, n)$"
   ]
  },
  {
   "cell_type": "code",
   "execution_count": 78,
   "id": "8783e8fb-24af-4271-8b1e-b79971b2d63b",
   "metadata": {},
   "outputs": [
    {
     "name": "stdout",
     "output_type": "stream",
     "text": [
      "50\n",
      "0.048736243783015935 0.02480979590923454\n"
     ]
    }
   ],
   "source": [
    "segments = segment_trading_data(data=data, n=100, t=12, shuffle=False, norm=True)\n",
    "r = 56                       # this is a random number, meaning that I'm taking the r-th segment as a sample\n",
    "for _ in range(r):\n",
    "    history, future = next(segments)\n",
    "\n",
    "volatility = history['close'].std(ddof=0)\n",
    "\n",
    "k_up, k_lo = 1., 1.\n",
    "last_bar = history.iloc[-1]\n",
    "last_closing_price = last_bar['close']\n",
    "upper_bound = k_up * volatility + last_closing_price\n",
    "lower_bound = -k_lo * volatility + last_closing_price\n",
    "\n",
    "\n",
    "# ATR version\n",
    "from utilities.funcs import indicator_ATR\n",
    "\n",
    "print(len(history) // 2)\n",
    "atr_df = indicator_ATR(history, n=len(history) // 2)\n",
    "atr = atr_df.iloc[-1].ATR\n",
    "\n",
    "up_atr = k_up * atr + last_closing_price\n",
    "lo_atr = -k_lo * atr + last_closing_price\n",
    "print(volatility, atr)"
   ]
  },
  {
   "cell_type": "markdown",
   "id": "335f78f9-5ca9-4f90-bad9-1b8aa4f95aa1",
   "metadata": {},
   "source": [
    "Now that the upper, lower bounds are calculated, let's visualize it to check if it all makes sense."
   ]
  },
  {
   "cell_type": "code",
   "execution_count": 79,
   "id": "9cdd48b6-184e-4c8a-b45a-13ea8ec48b5d",
   "metadata": {},
   "outputs": [
    {
     "data": {
      "image/png": "[encoded data removed]",
      "text/plain": [
       "<Figure size 864x576 with 2 Axes>"
      ]
     },
     "metadata": {},
     "output_type": "display_data"
    }
   ],
   "source": [
    "separator = last_bar.name[0]\n",
    "fig, (main_ax, vol_ax) = draw_trading_data(pd.concat([history, future]),)\n",
    "main_ax.axvline(99.5, color='gray', ls='--', linewidth=1.5)\n",
    "main_ax.axhline(upper_bound, color='g', linewidth=1.5, ls='--', label='vol up')\n",
    "main_ax.axhline(lower_bound, color='r', linewidth=1.5, ls='--', label='vol low')\n",
    "\n",
    "main_ax.axhline(up_atr, color='#64f960', linewidth=1.5, ls='-.', label='ATR up')\n",
    "main_ax.axhline(lo_atr, color='#ff0192', linewidth=1.5, ls='-.', label='ATR low')\n",
    "main_ax.legend();"
   ]
  },
  {
   "cell_type": "markdown",
   "id": "093ecb75-6e44-46e2-abf2-eba44880fd8f",
   "metadata": {},
   "source": [
    "From the above plot, it's easy to see that the future price goes up and penetrates the upper bound, hence the label $y=1$. \n",
    "\n",
    "*Please note that the data here is randomly taken, and the example data is not necessarily the same for everyone who run this notebook, so this illustration might not be accurate for you*\n",
    "\n",
    "Now let's write the code to determine the label based on the code we already have."
   ]
  },
  {
   "cell_type": "code",
   "execution_count": 75,
   "id": "1c5f1492-b20c-4fc4-89f4-8123a5d247fc",
   "metadata": {},
   "outputs": [
    {
     "data": {
      "text/plain": [
       "1"
      ]
     },
     "execution_count": 75,
     "metadata": {},
     "output_type": "execute_result"
    }
   ],
   "source": [
    "# determine the label\n",
    "above_upper, = np.nonzero((future['close'] > up_atr).values)\n",
    "below_lower, = np.nonzero((future['close'] < lo_atr).values)\n",
    "first_above = above_upper[0] if len(above_upper) else len(future) + 1\n",
    "first_below = below_lower[0] if len(below_lower) else len(future) + 1\n",
    "\n",
    "if first_above < first_below:\n",
    "    label = 1\n",
    "elif first_below < first_above:\n",
    "    label = -1\n",
    "else:\n",
    "    label = 0\n",
    "\n",
    "label"
   ]
  },
  {
   "cell_type": "markdown",
   "id": "d2c8a0d7-898a-43c2-b0d0-9e7c9a62e20f",
   "metadata": {},
   "source": [
    "The above procedure is implemented in `dataset_management/tools.py` as function `compute_label()`.\n",
    "\n",
    "### 1. 3 - Data Normalization\n",
    "\n",
    "In deep learning, there is a well-known data pre-processing step called \"normalization\" and the purpose of it is to rescale data inputs to a universal range to help neural networks converge during training. And the input features we have here are OHLCV, notice that the first 4 features are prices and share more or less the same degree of magnitude; whereas the volume is there by its own. Therefore the normalization of the input data is as follows:\n",
    "\n",
    "$\\text{open}' = \\dfrac{\\text{open}}{a}$\n",
    "\n",
    "$\\text{close}' = \\dfrac{\\text{close}}{a}$\n",
    "\n",
    "$\\text{high}' = \\dfrac{\\text{high}}{a}$\n",
    "\n",
    "$\\text{low}' = \\dfrac{\\text{low}}{a}$\n",
    "\n",
    "$\\text{volume}' = \\dfrac{\\text{volume} - \\text{volume}_{min}}{\\text{volume}_{max} - \\text{volume}_{min}}$\n",
    "\n",
    "where $a$ is the anchor price, here we take the first closing price as its value.\n",
    "\n",
    "The implementation can be integrated into the previous code snippet when we segment the data:"
   ]
  },
  {
   "cell_type": "code",
   "execution_count": 82,
   "id": "132e61db-822b-4726-9a0f-916a2e33a2ba",
   "metadata": {},
   "outputs": [
    {
     "data": {
      "image/png": "[encoded data removed]",
      "text/plain": [
       "<Figure size 576x432 with 2 Axes>"
      ]
     },
     "metadata": {},
     "output_type": "display_data"
    },
    {
     "data": {
      "image/png": "[encoded data removed]",
      "text/plain": [
       "<Figure size 576x432 with 2 Axes>"
      ]
     },
     "metadata": {},
     "output_type": "display_data"
    }
   ],
   "source": [
    "def segment_trading_data(data: pd.DataFrame, n: int=144, t: int=6, norm=False):\n",
    "    \"\"\" Slide the given trading data and generate segments\n",
    "        data:   the trading data formatted as QUANTAXIS DataStruct\n",
    "        n:      history window size, default to 144 (12 hours of 5min data)\n",
    "        t:      future window size, default to 6 (half hour of 5min data)\n",
    "        norm:   specify whether to normalize the input data\n",
    "        :return : generator of (history, future) pair\n",
    "    \"\"\"\n",
    "    window_size = n + t\n",
    "    for i in range(0, len(data) - window_size + 1):\n",
    "        segment = data.iloc[i : i + window_size].copy()\n",
    "        if norm:\n",
    "            \n",
    "            anchor_price = segment['close'].iloc[0]\n",
    "            max_vol = segment['volume'].iloc[:n].max()\n",
    "            min_vol = segment['volume'].iloc[:n].min()\n",
    "            segment[['open', 'high', 'low', 'close']] /= anchor_price\n",
    "            segment['volume'] = (segment['volume'] - min_vol) / (max_vol - min_vol)\n",
    "        history = segment[:n]\n",
    "        future = segment[n:]\n",
    "        yield history, future\n",
    "\n",
    "orig_segments = segment_trading_data(data, 100, 12, False)\n",
    "norm_segments = segment_trading_data(data, 100, 12, True)\n",
    "\n",
    "orig_history, orig_future = next(orig_segments)\n",
    "norm_history, norm_future = next(norm_segments)\n",
    "\n",
    "draw_trading_data(pd.concat([orig_history, orig_future]), title='original', figsize=(8, 6));\n",
    "draw_trading_data(pd.concat([norm_history, norm_future]), title='normalized', figsize=(8, 6));"
   ]
  },
  {
   "cell_type": "markdown",
   "id": "5e7fe393-0909-4e62-a44d-963c74e97080",
   "metadata": {},
   "source": [
    "### 1. 4 - Put Together\n",
    "\n",
    "So far, the input data is segmented, normalized, and the labels are determined, the data pre-processing is done. The next step is to put the pieces together to have a comprehensive training data generation pipeline.\n",
    "\n",
    "Sometimes the neural network model contains the data pre-processing layers to achieve the end-to-end training and inference functionality. So it is a good practice to parameterize the pre-processing options when generating the training datasets. \n",
    "\n",
    "Also, when training the model with Tensorflow, PyTorch, or any other deep learning frameworks, usually the data is in `numpy.ndarray` or `tf.EagerTensor` format, so we transform the `pd.DataFrame` into numpy. Recall that the original data might contain columns other than OHLCV, so in this step we are removing unnecessary columns, and keep the columns in the OHLCV order so that we can reconstruct the data later with the same order."
   ]
  },
  {
   "cell_type": "code",
   "execution_count": 83,
   "id": "7a0c9ec0-1da1-4624-b6ca-b6e5a5401002",
   "metadata": {},
   "outputs": [
    {
     "name": "stdout",
     "output_type": "stream",
     "text": [
      "(144, 5) <class 'numpy.ndarray'> (6, 5) <class 'numpy.ndarray'>\n"
     ]
    }
   ],
   "source": [
    "from tools import compute_label\n",
    "\n",
    "def construct_training_data(data: pd.DataFrame, n: int=144, t: int=6, k_up=1., k_lo=None, norm=False, columns=None):\n",
    "    if columns is None:\n",
    "        columns = ['open', 'high', 'low', 'close', 'volume']\n",
    "    columns = list(columns)\n",
    "    segments = segment_trading_data(data=data, n=n, t=t, norm=norm)\n",
    "    for history, future in segments:\n",
    "        y = compute_label(history, future, k_up=k_up, k_lo=k_lo)\n",
    "        hist = history[columns].values\n",
    "        fut = future[columns].values\n",
    "        '''Converting history and future data from float64 into float32 format is to reduce the size of the data by half'''\n",
    "        yield hist.astype('float32'), y, fut.astype('float32')\n",
    "\n",
    "\n",
    "dataset = construct_training_data(data, n=144, t=6, norm=True)\n",
    "for history, y, future in dataset:\n",
    "    print(history.shape, type(history), future.shape, type(future))\n",
    "    break"
   ]
  },
  {
   "cell_type": "markdown",
   "id": "3e185f7d-db0f-499c-bfa1-65def46037e7",
   "metadata": {},
   "source": [
    "## 2. Writing to File\n",
    "\n",
    "It is a good habbit to generate the training data and save them into files. \n",
    "\n",
    "Following the above instructions, one might notice that the training data samples are generated in a consecutive fashion, meaning that 2 adjacent segments share most of the same data except for 1 candle. This is harmful to model training if familiar with deep learning since it can cause the model to overfit the first few batches of data quickly and to stay in a local-minima position. To resolve this, randomizing the appearance of the segments is one of the most effective way, and saving data into files and randomly re-order them during loading does just that.\n",
    "\n",
    "Besides, neural network training often takes place on machines with GPU and running Linux operating systems, which might not have direct access to the original trading data. For instance, QUANTAXIS saves trading data into a specified MongoDB instance, usually in a Docker container, and accessing those data from the said GPU machines can be tiresome, but transmitting training dataset files and loading them is not.\n",
    "\n",
    "Moreover, if using Tensorflow, loading **.tfrecord** files is faster.\n",
    "\n",
    "Long story short, it's worth implementing the functionality to save the training data into files.\n",
    "\n",
    "When creating Tensorflow dataset buffer files, it's needed to convert the original training data into the right format, which can be done by serializing numpy arrays into `tfrecord` buffer strings, and it is implemented in the `tfannotation` module as function `create_tfrecord()`, the basic idea is to encode various types of data into their corresponding buffer strings."
   ]
  },
  {
   "cell_type": "code",
   "execution_count": 103,
   "id": "17c440bd-f397-435a-9892-1a5784b5cc8c",
   "metadata": {},
   "outputs": [
    {
     "name": "stderr",
     "output_type": "stream",
     "text": [
      "100%|██████████| 47007/47007 [03:38<00:00, 215.26it/s]\n"
     ]
    }
   ],
   "source": [
    "from utilities.funcs import create_file_name\n",
    "from dataset_management.tfannotation import create_tfrecord\n",
    "import tensorflow as tf\n",
    "from dataset_management.tools import construct_training_data\n",
    "from tqdm import tqdm\n",
    "\n",
    "\n",
    "dataset = construct_training_data(data, n=144, t=6, norm=True)\n",
    "\n",
    "# specify where you want to put the training dataset files and make sure the directories exist\n",
    "dataset_dir = _project_root / 'dataset'\n",
    "train_dir = dataset_dir / 'train'\n",
    "valid_dir = dataset_dir / 'valid'\n",
    "train_dir.mkdir(parents=True, exist_ok=True)\n",
    "valid_dir.mkdir(parents=True, exist_ok=True)\n",
    "split_ratio = .1\n",
    "\n",
    "for i, (history, y, future) in tqdm(enumerate(dataset), total=len(data) - (144 + 6) + 1):\n",
    "    file_name = f\"{create_file_name()}.tfrecords\"\n",
    "    \n",
    "    if i % (1 / split_ratio) < 1:\n",
    "        file_path = valid_dir / file_name\n",
    "    else:\n",
    "        file_path = train_dir / file_name\n",
    "    \n",
    "    with tf.io.TFRecordWriter(str(file_path)) as writer:\n",
    "        serialized = create_tfrecord(history=history, label=y, future=future)\n",
    "        writer.write(serialized)\n"
   ]
  },
  {
   "cell_type": "markdown",
   "id": "c41f3a11-27a3-44c9-bfb4-356fb4894c17",
   "metadata": {},
   "source": [
    "The above code snippet creates several tfrec files under the `dataset/` directory, now let's check if we can read the data back from those files, and use the same code to load the dataset when training.\n",
    "\n",
    "To do so, the first step is to find all the files need to be loaded, then create a raw dataset of type `TFRecordDataset`. However, the current dataset cannot be fed into the model nor human-readable yet, because each sample in the dataset is the serialized version of the data, recall the serialization step when creating the files. This brings us to the second step - deserialization. The deserialization function is already implemented in the `tfannotation` module with name `read_tfrecord()`, which decodes a single serialized string, mapping the function with each of the samples in the raw dataset will eventually restore the dataset."
   ]
  },
  {
   "cell_type": "code",
   "execution_count": 127,
   "id": "e75dfc68-1530-4fa1-b4e3-71adf30c7526",
   "metadata": {},
   "outputs": [
    {
     "name": "stdout",
     "output_type": "stream",
     "text": [
      "[INFO] 47007 files founded.\n",
      "sample #1:\n",
      "history var type: <class 'tensorflow.python.framework.ops.EagerTensor'> dtype: <dtype: 'float32'> shape: (144, 5)\n",
      "label   var type: <class 'tensorflow.python.framework.ops.EagerTensor'> dtype: <dtype: 'int64'> shape: ()\n",
      "future  var type: <class 'tensorflow.python.framework.ops.EagerTensor'> dtype: <dtype: 'float32'> shape: (6, 5)\n",
      "\n"
     ]
    }
   ],
   "source": [
    "from dataset_management.tfannotation import read_tfrecord\n",
    "\n",
    "def load_dataset(directory):\n",
    "    directory = Path(str(directory))\n",
    "    data_files = [str(p) for p in directory.rglob('*.tfrecords')]\n",
    "    print(f\"[INFO] {len(data_files)} files founded.\", flush=True)\n",
    "    \n",
    "    raw = tf.data.TFRecordDataset(data_files)\n",
    "    dataset = raw.map(read_tfrecord)\n",
    "    return dataset\n",
    "\n",
    "\n",
    "testsflush== load_dataset(dataset_dir)\n",
    "for i, sample in enumerate(testset):\n",
    "    print(f\"sample #{i + 1}:\")\n",
    "    history, label, future = sample\n",
    "    print(f\"history var type: {type(history)} dtype: {history.dtype} shape: {history.shape}\")\n",
    "    print(f\"label   var type: {type(label)} dtype: {label.dtype} shape: {label.shape}\")\n",
    "    print(f\"future  var type: {type(future)} dtype: {future.dtype} shape: {future.shape}\")\n",
    "    print()\n",
    "    break"
   ]
  },
  {
   "cell_type": "markdown",
   "id": "59022606-2700-49d7-b5af-36c10a3a1215",
   "metadata": {},
   "source": [
    "## 3. Dataset Distribution Review\n",
    "\n",
    "Usually the dataset needs to be reviewed and adjusted before training the model since the dataset distribution might be skewed. In this particular case, this could mean that the 3 classes might be unbalanced due to the settings of the **TBM** parameters when creating the data samples. And a visualization of the classes distribution is one of the most straightforward ways to identify such issue."
   ]
  },
  {
   "cell_type": "code",
   "execution_count": 130,
   "id": "ead67dac-7c77-4433-81d9-4b6f2feb670d",
   "metadata": {},
   "outputs": [
    {
     "name": "stdout",
     "output_type": "stream",
     "text": [
      "[INFO] 42306 files founded.\n",
      "[INFO] 4701 files founded.\n"
     ]
    },
    {
     "name": "stderr",
     "output_type": "stream",
     "text": [
      "42306it [00:08, 4733.25it/s]\n",
      "336it [00:00, 3355.28it/s]"
     ]
    },
    {
     "name": "stdout",
     "output_type": "stream",
     "text": [
      "label -1: 3,804\n",
      "label 0: 35,057\n",
      "label 1: 3,445\n"
     ]
    },
    {
     "name": "stderr",
     "output_type": "stream",
     "text": [
      "4701it [00:01, 4477.74it/s]\n"
     ]
    },
    {
     "name": "stdout",
     "output_type": "stream",
     "text": [
      "label -1: 411\n",
      "label 0: 3,910\n",
      "label 1: 380\n"
     ]
    },
    {
     "data": {
      "image/png": "[encoded data removed]",
      "text/plain": [
       "<Figure size 432x288 with 1 Axes>"
      ]
     },
     "metadata": {
      "needs_background": "light"
     },
     "output_type": "display_data"
    },
    {
     "data": {
      "image/png": "[encoded data removed]",
      "text/plain": [
       "<Figure size 432x288 with 1 Axes>"
      ]
     },
     "metadata": {
      "needs_background": "light"
     },
     "output_type": "display_data"
    }
   ],
   "source": [
    "trainset = load_dataset(train_dir)\n",
    "validset = load_dataset(valid_dir)\n",
    "\n",
    "\n",
    "def visualize_label_distribution(dataset):\n",
    "    labels = [-1, 0, 1]\n",
    "    label_counts = {k: 0 for k in labels}    \n",
    "    \n",
    "    for history, label, future in tqdm(dataset):\n",
    "        label = label.numpy()\n",
    "        label_counts[label] += 1\n",
    "\n",
    "    for lb in labels:\n",
    "        print(f\"label {lb}: {label_counts[lb]:,d}\", flush=True)\n",
    "    pd.DataFrame(label_counts, columns=label_counts.keys(), index=[0]).plot.bar();\n",
    "    \n",
    "\n",
    "visualize_label_distribution(trainset)\n",
    "visualize_label_distribution(validset)"
   ]
  },
  {
   "cell_type": "markdown",
   "id": "385c6719-474d-4d8d-81bd-678dc9fc28d6",
   "metadata": {},
   "source": [
    "The above results depicts that the dataset is extremely unbalanced since the majority of the data samples are labeled 0, this implies that training the deep learning models directly with this dataset might not lead to a robust result and that:\n",
    "\n",
    "1. either a weighted loss function needs to be implemented during training;\n",
    "2. or some kind of data augmentation method needs to be adopted;\n",
    "\n",
    "One easy way of eliminating the distribution skewness is randomly removing some of the data with label 0 to have a balanced dataset, however, doing so will decrease the size of the training set dramatically.\n",
    "\n",
    "Another possible way is to tune the **TBM** parameters, it could be to increase the window size of the future $T$ to give it more time for the asset to reach either horizontal barriers, or decrease the $k$ parameters so that reaching the take profit or stop loss thresholds become more tangible. \n",
    "\n",
    "Have fun generating your own financial datasets!"
   ]
  },
  {
   "cell_type": "markdown",
   "id": "9930d921-e2d7-408f-8bb5-9c465e5054d7",
   "metadata": {},
   "source": [
    "# JUST SOME EXPERIMENTS\n",
    "\n",
    "The following is just some experimental code to try to resolve the unbalancing issue."
   ]
  },
  {
   "cell_type": "code",
   "execution_count": 133,
   "id": "caab6667-64ce-468c-ab8a-34e9a04eb7fb",
   "metadata": {},
   "outputs": [
    {
     "name": "stderr",
     "output_type": "stream",
     "text": [
      "  0%|          | 28/47001 [00:00<05:31, 141.85it/s]"
     ]
    },
    {
     "name": "stdout",
     "output_type": "stream",
     "text": [
      "[INFO] creating tfrec files\n"
     ]
    },
    {
     "name": "stderr",
     "output_type": "stream",
     "text": [
      "100%|██████████| 47001/47001 [03:58<00:00, 196.87it/s]\n"
     ]
    },
    {
     "name": "stdout",
     "output_type": "stream",
     "text": [
      "[INFO] 42300 files founded.\n",
      "[INFO] 4701 files founded.\n"
     ]
    },
    {
     "name": "stderr",
     "output_type": "stream",
     "text": [
      "42300it [00:16, 2497.96it/s]\n",
      "427it [00:00, 1925.35it/s]"
     ]
    },
    {
     "name": "stdout",
     "output_type": "stream",
     "text": [
      "label -1: 7,839\n",
      "label 0: 27,373\n",
      "label 1: 7,088\n"
     ]
    },
    {
     "name": "stderr",
     "output_type": "stream",
     "text": [
      "4701it [00:02, 1958.21it/s]\n"
     ]
    },
    {
     "name": "stdout",
     "output_type": "stream",
     "text": [
      "label -1: 871\n",
      "label 0: 3,043\n",
      "label 1: 787\n"
     ]
    },
    {
     "data": {
      "image/png": "[encoded data removed]",
      "text/plain": [
       "<Figure size 432x288 with 1 Axes>"
      ]
     },
     "metadata": {
      "needs_background": "light"
     },
     "output_type": "display_data"
    },
    {
     "data": {
      "image/png": "[encoded data removed]",
      "text/plain": [
       "<Figure size 432x288 with 1 Axes>"
      ]
     },
     "metadata": {
      "needs_background": "light"
     },
     "output_type": "display_data"
    }
   ],
   "source": [
    "params = dict(\n",
    "    n=144, \n",
    "    t=12,\n",
    "    k_up=1.,\n",
    "    norm=True\n",
    ")\n",
    "dataset = construct_training_data(data, **params)\n",
    "\n",
    "dataset_dir = _project_root / 'dataset'\n",
    "train_dir = dataset_dir / 'train'\n",
    "valid_dir = dataset_dir / 'valid'\n",
    "train_dir.mkdir(parents=True, exist_ok=True)\n",
    "valid_dir.mkdir(parents=True, exist_ok=True)\n",
    "split_ratio = .1\n",
    "\n",
    "print(f\"[INFO] creating tfrec files\", flush=True)\n",
    "for i, (history, y, future) in tqdm(enumerate(dataset), total=len(data) - (params[\"n\"] + params[\"t\"]) + 1):\n",
    "    file_name = f\"{create_file_name()}.tfrecords\"\n",
    "    \n",
    "    if i % (1 / split_ratio) < 1:\n",
    "        file_path = valid_dir / file_name\n",
    "    else:\n",
    "        file_path = train_dir / file_name\n",
    "    \n",
    "    with tf.io.TFRecordWriter(str(file_path)) as writer:\n",
    "        serialized = create_tfrecord(history=history, label=y, future=future)\n",
    "        writer.write(serialized)\n",
    "\n",
    "\n",
    "trainset = load_dataset(train_dir)\n",
    "validset = load_dataset(valid_dir)\n",
    "\n",
    "\n",
    "def visualize_label_distribution(dataset):\n",
    "    labels = [-1, 0, 1]\n",
    "    label_counts = {k: 0 for k in labels}    \n",
    "    \n",
    "    for history, label, future in tqdm(dataset):\n",
    "        label = label.numpy()\n",
    "        label_counts[label] += 1\n",
    "\n",
    "    for lb in labels:\n",
    "        print(f\"label {lb}: {label_counts[lb]:,d}\")\n",
    "    pd.DataFrame(label_counts, columns=label_counts.keys(), index=[0]).plot.bar();\n",
    "    \n",
    "\n",
    "visualize_label_distribution(trainset)\n",
    "visualize_label_distribution(validset)"
   ]
  }
 ],
 "metadata": {
  "kernelspec": {
   "display_name": "Python 3",
   "language": "python",
   "name": "python3"
  },
  "language_info": {
   "codemirror_mode": {
    "name": "ipython",
    "version": 3
   },
   "file_extension": ".py",
   "mimetype": "text/x-python",
   "name": "python",
   "nbconvert_exporter": "python",
   "pygments_lexer": "ipython3",
   "version": "3.8.5"
  }
 },
 "nbformat": 4,
 "nbformat_minor": 5
}
